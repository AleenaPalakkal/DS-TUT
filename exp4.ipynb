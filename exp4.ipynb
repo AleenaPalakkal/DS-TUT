{
  "nbformat": 4,
  "nbformat_minor": 0,
  "metadata": {
    "colab": {
      "provenance": [],
      "authorship_tag": "ABX9TyMtXdQihNzjiph2RlnTj0yW",
      "include_colab_link": true
    },
    "kernelspec": {
      "name": "python3",
      "display_name": "Python 3"
    },
    "language_info": {
      "name": "python"
    }
  },
  "cells": [
    {
      "cell_type": "markdown",
      "metadata": {
        "id": "view-in-github",
        "colab_type": "text"
      },
      "source": [
        "<a href=\"https://colab.research.google.com/github/AleenaPalakkal/DS-TUT/blob/main/exp4.ipynb\" target=\"_parent\"><img src=\"https://colab.research.google.com/assets/colab-badge.svg\" alt=\"Open In Colab\"/></a>"
      ]
    },
    {
      "cell_type": "code",
      "execution_count": null,
      "metadata": {
        "colab": {
          "base_uri": "https://localhost:8080/"
        },
        "id": "SSyX3C1e3JhW",
        "outputId": "f78bb676-3cab-4e66-e302-282275dccd8c"
      },
      "outputs": [
        {
          "output_type": "stream",
          "name": "stdout",
          "text": [
            "20 Newsgroups Dataset - Ensemble Random Forest Accuracy: 86.8589%\n"
          ]
        }
      ],
      "source": [
        "import numpy as np\n",
        "from sklearn.ensemble import RandomForestClassifier, VotingClassifier\n",
        "from sklearn.model_selection import train_test_split\n",
        "from sklearn.datasets import fetch_20newsgroups\n",
        "from sklearn.feature_extraction.text import TfidfVectorizer, ENGLISH_STOP_WORDS\n",
        "from sklearn.metrics import accuracy_score\n",
        "\n",
        "# Load 20 Newsgroups Dataset\n",
        "newsgroups = fetch_20newsgroups(subset='all')\n",
        "X_newsgroups = newsgroups.data\n",
        "y_newsgroups = newsgroups.target\n",
        "\n",
        "# Custom stop words (instead of 'english')\n",
        "custom_stop_words = list(ENGLISH_STOP_WORDS)  # Alternative predefined stop words list\n",
        "\n",
        "# Convert text data into numerical features using TF-IDF\n",
        "vectorizer = TfidfVectorizer(\n",
        "    stop_words=custom_stop_words,  # Replaced 'english' with a custom stop word list\n",
        "    max_features=50000,\n",
        "    ngram_range=(1, 2),\n",
        "    sublinear_tf=True\n",
        ")\n",
        "X_newsgroups_tfidf = vectorizer.fit_transform(X_newsgroups)\n",
        "\n",
        "# Split data into training and test sets\n",
        "X_train, X_test, y_train, y_test = train_test_split(\n",
        "    X_newsgroups_tfidf, y_newsgroups, test_size=0.3, random_state=42\n",
        ")\n",
        "\n",
        "# Number of models in the ensemble\n",
        "n_models = 5\n",
        "\n",
        "# Create multiple Random Forest classifiers\n",
        "models = [\n",
        "    (f\"rf_{i}\", RandomForestClassifier(n_estimators=100, random_state=100 + i, n_jobs=-1, bootstrap=False))\n",
        "    for i in range(n_models)\n",
        "]\n",
        "\n",
        "# Use VotingClassifier for ensemble learning\n",
        "voting_clf = VotingClassifier(estimators=models, voting='hard')\n",
        "voting_clf.fit(X_train, y_train)\n",
        "\n",
        "# Predict and evaluate\n",
        "y_pred = voting_clf.predict(X_test)\n",
        "accuracy = accuracy_score(y_test, y_pred)\n",
        "\n",
        "print(f\"20 Newsgroups Dataset - Ensemble Random Forest Accuracy: {accuracy * 100:.4f}%\")\n"
      ]
    }
  ]
}