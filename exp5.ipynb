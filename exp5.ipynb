{
  "nbformat": 4,
  "nbformat_minor": 0,
  "metadata": {
    "colab": {
      "provenance": [],
      "authorship_tag": "ABX9TyP4l6PlqvmTBe4auUgVeWSX",
      "include_colab_link": true
    },
    "kernelspec": {
      "name": "python3",
      "display_name": "Python 3"
    },
    "language_info": {
      "name": "python"
    }
  },
  "cells": [
    {
      "cell_type": "markdown",
      "metadata": {
        "id": "view-in-github",
        "colab_type": "text"
      },
      "source": [
        "<a href=\"https://colab.research.google.com/github/AleenaPalakkal/DS-TUT/blob/main/exp5.ipynb\" target=\"_parent\"><img src=\"https://colab.research.google.com/assets/colab-badge.svg\" alt=\"Open In Colab\"/></a>"
      ]
    },
    {
      "cell_type": "code",
      "execution_count": 1,
      "metadata": {
        "colab": {
          "base_uri": "https://localhost:8080/"
        },
        "id": "JX-ED4zwCj-y",
        "outputId": "eb363a15-ab96-4df1-ec3f-118ebf5726b7"
      },
      "outputs": [
        {
          "output_type": "stream",
          "name": "stdout",
          "text": [
            "Predictions: [ 1. -1.  1. -1. -1. -1.]\n"
          ]
        }
      ],
      "source": [
        "import numpy as np\n",
        "from sklearn.preprocessing import StandardScaler\n",
        "\n",
        "class SVM:\n",
        "    def __init__(self, learning_rate=0.001, lambda_param=0.01, n_iters=1000):\n",
        "        self.lr = learning_rate\n",
        "        self.lambda_param = lambda_param\n",
        "        self.n_iters = n_iters\n",
        "        self.w = None\n",
        "        self.b = None\n",
        "\n",
        "    def fit(self, X, y):\n",
        "        # Standardize features for better convergence\n",
        "        scaler = StandardScaler()\n",
        "        X = scaler.fit_transform(X)\n",
        "        self.scaler = scaler  # Store the scaler for future use\n",
        "\n",
        "        n_samples, n_features = X.shape\n",
        "        self.w = np.zeros(n_features)\n",
        "        self.b = 0\n",
        "\n",
        "        # Map labels: Ensure binary classification labels are {-1, 1}\n",
        "        y_ = np.where(y == 0, -1, 1)\n",
        "\n",
        "        # Training loop\n",
        "        for _ in range(self.n_iters):\n",
        "            for idx, x_i in enumerate(X):\n",
        "                condition = y_[idx] * (np.dot(x_i, self.w) + self.b) >= 1\n",
        "                if condition:\n",
        "                    self.w -= self.lr * (2 * self.lambda_param * self.w)\n",
        "                else:\n",
        "                    self.w -= self.lr * (2 * self.lambda_param * self.w - np.dot(x_i, y_[idx]))\n",
        "                    self.b -= self.lr * y_[idx]\n",
        "\n",
        "    def predict(self, X):\n",
        "        # Transform input using stored scaler\n",
        "        X = self.scaler.transform(X)\n",
        "        linear_output = np.dot(X, self.w) + self.b\n",
        "        return np.sign(linear_output)\n",
        "\n",
        "# New Sample Dataset (Height in cm, Weight in kg)\n",
        "X = np.array([\n",
        "    [170, 65], [180, 75], [160, 55],  # Class 1 (mapped to 1)\n",
        "    [190, 90], [200, 100], [175, 80]  # Class 0 (mapped to -1)\n",
        "])\n",
        "y = np.array([1, 1, 1, 0, 0, 0])  # Binary labels\n",
        "\n",
        "# Initialize and train the SVM\n",
        "clf = SVM()\n",
        "clf.fit(X, y)\n",
        "\n",
        "# Predicting on the same dataset\n",
        "predictions = clf.predict(X)\n",
        "print(\"Predictions:\", predictions)\n"
      ]
    }
  ]
}