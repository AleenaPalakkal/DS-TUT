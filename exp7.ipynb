{
  "nbformat": 4,
  "nbformat_minor": 0,
  "metadata": {
    "colab": {
      "provenance": [],
      "authorship_tag": "ABX9TyOLzZ78K7nrcjgi+9Vi1pWu",
      "include_colab_link": true
    },
    "kernelspec": {
      "name": "python3",
      "display_name": "Python 3"
    },
    "language_info": {
      "name": "python"
    }
  },
  "cells": [
    {
      "cell_type": "markdown",
      "metadata": {
        "id": "view-in-github",
        "colab_type": "text"
      },
      "source": [
        "<a href=\"https://colab.research.google.com/github/AleenaPalakkal/DS-TUT/blob/main/exp7.ipynb\" target=\"_parent\"><img src=\"https://colab.research.google.com/assets/colab-badge.svg\" alt=\"Open In Colab\"/></a>"
      ]
    },
    {
      "cell_type": "code",
      "execution_count": null,
      "metadata": {
        "colab": {
          "base_uri": "https://localhost:8080/"
        },
        "id": "_12bLDmd10ka",
        "outputId": "bac6328a-fbfb-4892-91bb-3303525eb694"
      },
      "outputs": [
        {
          "output_type": "stream",
          "name": "stdout",
          "text": [
            "\n",
            "=== Frequent Itemsets (Grocery Shopping) ===\n",
            " support       itemsets\n",
            "0.666667        (bread)\n",
            "0.666667       (butter)\n",
            "0.666667         (milk)\n",
            "0.500000 (butter, milk)\n",
            "\n",
            "=== Association Rules ===\n",
            "antecedents consequents  support  confidence  lift\n",
            "   (butter)      (milk)      0.5        0.75 1.125\n",
            "     (milk)    (butter)      0.5        0.75 1.125\n"
          ]
        },
        {
          "output_type": "stream",
          "name": "stderr",
          "text": [
            "/usr/local/lib/python3.11/dist-packages/mlxtend/frequent_patterns/fpcommon.py:161: DeprecationWarning: DataFrames with non-bool types result in worse computationalperformance and their support might be discontinued in the future.Please use a DataFrame with bool type\n",
            "  warnings.warn(\n"
          ]
        }
      ],
      "source": [
        "import pandas as pd\n",
        "from mlxtend.frequent_patterns import apriori, association_rules\n",
        "\n",
        "# Simplified dataset: Grocery shopping transactions\n",
        "transactions = [\n",
        "    ['milk', 'bread'],\n",
        "    ['milk', 'butter'],\n",
        "    ['bread', 'butter'],\n",
        "    ['milk', 'bread', 'butter'],\n",
        "    ['bread'],\n",
        "    ['milk', 'butter']\n",
        "]\n",
        "\n",
        "# Convert dataset into a one-hot encoded DataFrame\n",
        "df = pd.DataFrame(pd.get_dummies(pd.DataFrame(transactions).stack()).groupby(level=0).sum())\n",
        "\n",
        "# Run Apriori algorithm\n",
        "frequent_itemsets = apriori(df, min_support=0.4, use_colnames=True)\n",
        "rules = association_rules(frequent_itemsets, metric=\"confidence\", min_threshold=0.5)\n",
        "\n",
        "# Display output in a readable format\n",
        "print(\"\\n=== Frequent Itemsets (Grocery Shopping) ===\")\n",
        "print(frequent_itemsets.to_string(index=False))\n",
        "\n",
        "print(\"\\n=== Association Rules ===\")\n",
        "print(rules[['antecedents', 'consequents', 'support', 'confidence', 'lift']].to_string(index=False))\n"
      ]
    }
  ]
}